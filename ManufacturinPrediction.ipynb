{
 "cells": [
  {
   "cell_type": "code",
   "execution_count": 65,
   "metadata": {},
   "outputs": [],
   "source": [
    "## Import Pacakges Required for Coding\n",
    "## The packages required are Pandas, Numpy for data manipulation and manipulating output array\n",
    "## Matplotib and Seaborn is used for generating graphs\n",
    "## Statsmodel is used for finding out the output through the OLS model and get various model measuring parameters\n",
    "import pandas as pd\n",
    "import numpy as np \n",
    "import matplotlib.pyplot as plot\n",
    "import statsmodels.api as sm\n",
    "import seaborn as sns"
   ]
  },
  {
   "cell_type": "code",
   "execution_count": 2,
   "metadata": {},
   "outputs": [
    {
     "data": {
      "text/html": [
       "<div>\n",
       "<style scoped>\n",
       "    .dataframe tbody tr th:only-of-type {\n",
       "        vertical-align: middle;\n",
       "    }\n",
       "\n",
       "    .dataframe tbody tr th {\n",
       "        vertical-align: top;\n",
       "    }\n",
       "\n",
       "    .dataframe thead th {\n",
       "        text-align: right;\n",
       "    }\n",
       "</style>\n",
       "<table border=\"1\" class=\"dataframe\">\n",
       "  <thead>\n",
       "    <tr style=\"text-align: right;\">\n",
       "      <th></th>\n",
       "      <th>Cash Compensation</th>\n",
       "      <th>Sales</th>\n",
       "      <th>No.of Employees</th>\n",
       "      <th>Capital Investment</th>\n",
       "      <th>Manufacturing</th>\n",
       "    </tr>\n",
       "  </thead>\n",
       "  <tbody>\n",
       "    <tr>\n",
       "      <th>0</th>\n",
       "      <td>212</td>\n",
       "      <td>32.0</td>\n",
       "      <td>248</td>\n",
       "      <td>10.5</td>\n",
       "      <td>1</td>\n",
       "    </tr>\n",
       "    <tr>\n",
       "      <th>1</th>\n",
       "      <td>226</td>\n",
       "      <td>27.2</td>\n",
       "      <td>156</td>\n",
       "      <td>3.8</td>\n",
       "      <td>0</td>\n",
       "    </tr>\n",
       "    <tr>\n",
       "      <th>2</th>\n",
       "      <td>237</td>\n",
       "      <td>49.5</td>\n",
       "      <td>348</td>\n",
       "      <td>14.6</td>\n",
       "      <td>1</td>\n",
       "    </tr>\n",
       "    <tr>\n",
       "      <th>3</th>\n",
       "      <td>239</td>\n",
       "      <td>34.0</td>\n",
       "      <td>196</td>\n",
       "      <td>5.0</td>\n",
       "      <td>0</td>\n",
       "    </tr>\n",
       "    <tr>\n",
       "      <th>4</th>\n",
       "      <td>242</td>\n",
       "      <td>52.8</td>\n",
       "      <td>371</td>\n",
       "      <td>15.9</td>\n",
       "      <td>1</td>\n",
       "    </tr>\n",
       "    <tr>\n",
       "      <th>5</th>\n",
       "      <td>245</td>\n",
       "      <td>37.6</td>\n",
       "      <td>216</td>\n",
       "      <td>5.7</td>\n",
       "      <td>0</td>\n",
       "    </tr>\n",
       "    <tr>\n",
       "      <th>6</th>\n",
       "      <td>253</td>\n",
       "      <td>60.7</td>\n",
       "      <td>425</td>\n",
       "      <td>18.3</td>\n",
       "      <td>1</td>\n",
       "    </tr>\n",
       "    <tr>\n",
       "      <th>7</th>\n",
       "      <td>262</td>\n",
       "      <td>49.2</td>\n",
       "      <td>285</td>\n",
       "      <td>8.0</td>\n",
       "      <td>0</td>\n",
       "    </tr>\n",
       "    <tr>\n",
       "      <th>8</th>\n",
       "      <td>271</td>\n",
       "      <td>75.1</td>\n",
       "      <td>524</td>\n",
       "      <td>22.6</td>\n",
       "      <td>1</td>\n",
       "    </tr>\n",
       "    <tr>\n",
       "      <th>9</th>\n",
       "      <td>285</td>\n",
       "      <td>69.0</td>\n",
       "      <td>401</td>\n",
       "      <td>12.3</td>\n",
       "      <td>0</td>\n",
       "    </tr>\n",
       "    <tr>\n",
       "      <th>10</th>\n",
       "      <td>329</td>\n",
       "      <td>137.2</td>\n",
       "      <td>947</td>\n",
       "      <td>41.4</td>\n",
       "      <td>1</td>\n",
       "    </tr>\n",
       "    <tr>\n",
       "      <th>11</th>\n",
       "      <td>340</td>\n",
       "      <td>140.1</td>\n",
       "      <td>825</td>\n",
       "      <td>30.3</td>\n",
       "      <td>0</td>\n",
       "    </tr>\n",
       "    <tr>\n",
       "      <th>12</th>\n",
       "      <td>353</td>\n",
       "      <td>162.9</td>\n",
       "      <td>961</td>\n",
       "      <td>36.7</td>\n",
       "      <td>0</td>\n",
       "    </tr>\n",
       "    <tr>\n",
       "      <th>13</th>\n",
       "      <td>384</td>\n",
       "      <td>221.7</td>\n",
       "      <td>1517</td>\n",
       "      <td>67.1</td>\n",
       "      <td>1</td>\n",
       "    </tr>\n",
       "    <tr>\n",
       "      <th>14</th>\n",
       "      <td>405</td>\n",
       "      <td>261.6</td>\n",
       "      <td>1784</td>\n",
       "      <td>79.2</td>\n",
       "      <td>1</td>\n",
       "    </tr>\n",
       "    <tr>\n",
       "      <th>15</th>\n",
       "      <td>411</td>\n",
       "      <td>300.1</td>\n",
       "      <td>1788</td>\n",
       "      <td>79.8</td>\n",
       "      <td>0</td>\n",
       "    </tr>\n",
       "    <tr>\n",
       "      <th>16</th>\n",
       "      <td>456</td>\n",
       "      <td>455.5</td>\n",
       "      <td>2733</td>\n",
       "      <td>135.7</td>\n",
       "      <td>0</td>\n",
       "    </tr>\n",
       "    <tr>\n",
       "      <th>17</th>\n",
       "      <td>478</td>\n",
       "      <td>437.6</td>\n",
       "      <td>2957</td>\n",
       "      <td>132.7</td>\n",
       "      <td>1</td>\n",
       "    </tr>\n",
       "    <tr>\n",
       "      <th>18</th>\n",
       "      <td>525</td>\n",
       "      <td>802.1</td>\n",
       "      <td>4857</td>\n",
       "      <td>278.4</td>\n",
       "      <td>0</td>\n",
       "    </tr>\n",
       "    <tr>\n",
       "      <th>19</th>\n",
       "      <td>564</td>\n",
       "      <td>731.5</td>\n",
       "      <td>4896</td>\n",
       "      <td>222.2</td>\n",
       "      <td>1</td>\n",
       "    </tr>\n",
       "    <tr>\n",
       "      <th>20</th>\n",
       "      <td>326</td>\n",
       "      <td>362.4</td>\n",
       "      <td>5896</td>\n",
       "      <td>223.2</td>\n",
       "      <td>1</td>\n",
       "    </tr>\n",
       "    <tr>\n",
       "      <th>21</th>\n",
       "      <td>546</td>\n",
       "      <td>352.5</td>\n",
       "      <td>1864</td>\n",
       "      <td>220.0</td>\n",
       "      <td>1</td>\n",
       "    </tr>\n",
       "  </tbody>\n",
       "</table>\n",
       "</div>"
      ],
      "text/plain": [
       "    Cash Compensation  Sales  No.of Employees  Capital Investment  \\\n",
       "0                 212   32.0              248                10.5   \n",
       "1                 226   27.2              156                 3.8   \n",
       "2                 237   49.5              348                14.6   \n",
       "3                 239   34.0              196                 5.0   \n",
       "4                 242   52.8              371                15.9   \n",
       "5                 245   37.6              216                 5.7   \n",
       "6                 253   60.7              425                18.3   \n",
       "7                 262   49.2              285                 8.0   \n",
       "8                 271   75.1              524                22.6   \n",
       "9                 285   69.0              401                12.3   \n",
       "10                329  137.2              947                41.4   \n",
       "11                340  140.1              825                30.3   \n",
       "12                353  162.9              961                36.7   \n",
       "13                384  221.7             1517                67.1   \n",
       "14                405  261.6             1784                79.2   \n",
       "15                411  300.1             1788                79.8   \n",
       "16                456  455.5             2733               135.7   \n",
       "17                478  437.6             2957               132.7   \n",
       "18                525  802.1             4857               278.4   \n",
       "19                564  731.5             4896               222.2   \n",
       "20                326  362.4             5896               223.2   \n",
       "21                546  352.5             1864               220.0   \n",
       "\n",
       "    Manufacturing  \n",
       "0               1  \n",
       "1               0  \n",
       "2               1  \n",
       "3               0  \n",
       "4               1  \n",
       "5               0  \n",
       "6               1  \n",
       "7               0  \n",
       "8               1  \n",
       "9               0  \n",
       "10              1  \n",
       "11              0  \n",
       "12              0  \n",
       "13              1  \n",
       "14              1  \n",
       "15              0  \n",
       "16              0  \n",
       "17              1  \n",
       "18              0  \n",
       "19              1  \n",
       "20              1  \n",
       "21              1  "
      ]
     },
     "execution_count": 2,
     "metadata": {},
     "output_type": "execute_result"
    }
   ],
   "source": [
    "## Import the data set which needs to be processed\n",
    "data = pd.read_csv(r'C:\\\\Users\\\\ADV\\\\Desktop\\\\Sneha\\\\Logistic Regression .csv')\n",
    "data"
   ]
  },
  {
   "cell_type": "code",
   "execution_count": 12,
   "metadata": {},
   "outputs": [
    {
     "data": {
      "text/html": [
       "<div>\n",
       "<style scoped>\n",
       "    .dataframe tbody tr th:only-of-type {\n",
       "        vertical-align: middle;\n",
       "    }\n",
       "\n",
       "    .dataframe tbody tr th {\n",
       "        vertical-align: top;\n",
       "    }\n",
       "\n",
       "    .dataframe thead th {\n",
       "        text-align: right;\n",
       "    }\n",
       "</style>\n",
       "<table border=\"1\" class=\"dataframe\">\n",
       "  <thead>\n",
       "    <tr style=\"text-align: right;\">\n",
       "      <th></th>\n",
       "      <th>Cash Compensation</th>\n",
       "      <th>Sales</th>\n",
       "      <th>No.of Employees</th>\n",
       "      <th>Capital Investment</th>\n",
       "      <th>Y</th>\n",
       "    </tr>\n",
       "  </thead>\n",
       "  <tbody>\n",
       "    <tr>\n",
       "      <th>0</th>\n",
       "      <td>212</td>\n",
       "      <td>32.0</td>\n",
       "      <td>248</td>\n",
       "      <td>10.5</td>\n",
       "      <td>1</td>\n",
       "    </tr>\n",
       "    <tr>\n",
       "      <th>1</th>\n",
       "      <td>226</td>\n",
       "      <td>27.2</td>\n",
       "      <td>156</td>\n",
       "      <td>3.8</td>\n",
       "      <td>0</td>\n",
       "    </tr>\n",
       "    <tr>\n",
       "      <th>2</th>\n",
       "      <td>237</td>\n",
       "      <td>49.5</td>\n",
       "      <td>348</td>\n",
       "      <td>14.6</td>\n",
       "      <td>1</td>\n",
       "    </tr>\n",
       "    <tr>\n",
       "      <th>3</th>\n",
       "      <td>239</td>\n",
       "      <td>34.0</td>\n",
       "      <td>196</td>\n",
       "      <td>5.0</td>\n",
       "      <td>0</td>\n",
       "    </tr>\n",
       "    <tr>\n",
       "      <th>4</th>\n",
       "      <td>242</td>\n",
       "      <td>52.8</td>\n",
       "      <td>371</td>\n",
       "      <td>15.9</td>\n",
       "      <td>1</td>\n",
       "    </tr>\n",
       "  </tbody>\n",
       "</table>\n",
       "</div>"
      ],
      "text/plain": [
       "   Cash Compensation  Sales  No.of Employees  Capital Investment  Y\n",
       "0                212   32.0              248                10.5  1\n",
       "1                226   27.2              156                 3.8  0\n",
       "2                237   49.5              348                14.6  1\n",
       "3                239   34.0              196                 5.0  0\n",
       "4                242   52.8              371                15.9  1"
      ]
     },
     "execution_count": 12,
     "metadata": {},
     "output_type": "execute_result"
    }
   ],
   "source": [
    "## Rename a variable of the column for simplicity\n",
    "data.rename(index = str, columns = {'Manufacturing' : 'Y'}, inplace = True)\n",
    "data.head()"
   ]
  },
  {
   "cell_type": "code",
   "execution_count": 71,
   "metadata": {},
   "outputs": [
    {
     "data": {
      "image/png": "[encoded data removed]",
      "text/plain": [
       "<Figure size 432x288 with 1 Axes>"
      ]
     },
     "metadata": {
      "needs_background": "light"
     },
     "output_type": "display_data"
    }
   ],
   "source": [
    "## Draw a histogram plot to understnad the distribution of the dependent variable\n",
    "plot.hist(data['Y'])\n",
    "plot.title('Categorical Variable\\nManufacturing')\n",
    "plot.legend\n",
    "plot.savefig(\"HistogramPlot.jpg\")\n",
    "\n",
    "## The graph clearly portrays that the dependent variable is categorical in nature. "
   ]
  },
  {
   "cell_type": "code",
   "execution_count": 11,
   "metadata": {},
   "outputs": [],
   "source": [
    "## Using Sklearn (Sci-kit learn) import the train test split function, the accuracy score of the model, and logistic regressor\n",
    "from sklearn.model_selection import train_test_split\n",
    "from sklearn.metrics import accuracy_score\n",
    "from sklearn.linear_model import LogisticRegression"
   ]
  },
  {
   "cell_type": "code",
   "execution_count": 13,
   "metadata": {},
   "outputs": [],
   "source": [
    "## Designate the data set to predictors and target variable\n",
    "X = data[['Cash Compensation', 'Sales', 'No.of Employees', 'Capital Investment']]\n",
    "y = data['Y']"
   ]
  },
  {
   "cell_type": "code",
   "execution_count": 14,
   "metadata": {},
   "outputs": [],
   "source": [
    "## Split the data set into train and test model for model fitting\n",
    "## Here we split the dataset in a ratio of 3:1\n",
    "X_train, X_test, y_train, y_test = train_test_split(X, y, test_size = 0.25, random_state = 0)"
   ]
  },
  {
   "cell_type": "code",
   "execution_count": 15,
   "metadata": {},
   "outputs": [],
   "source": [
    "## Using logistic regression create the model\n",
    "logistic_regression = LogisticRegression()\n",
    "## Fit the training dataset into the model\n",
    "logistic_regression.fit(X_train, y_train)\n",
    "## Predict the model on the test data set\n",
    "y_pred = logistic_regression.predict(X_test)"
   ]
  },
  {
   "cell_type": "code",
   "execution_count": 24,
   "metadata": {},
   "outputs": [
    {
     "data": {
      "text/plain": [
       "array([25.93417555])"
      ]
     },
     "execution_count": 24,
     "metadata": {},
     "output_type": "execute_result"
    }
   ],
   "source": [
    "## Find the intercept of the model\n",
    "logistic_regression.intercept_"
   ]
  },
  {
   "cell_type": "code",
   "execution_count": 28,
   "metadata": {},
   "outputs": [
    {
     "data": {
      "text/plain": [
       "array([[-0.122911  , -0.67421874,  0.11791558,  0.00302601]])"
      ]
     },
     "execution_count": 28,
     "metadata": {},
     "output_type": "execute_result"
    }
   ],
   "source": [
    "## Find the coefficients of the variables\n",
    "logistic_regression.coef_"
   ]
  },
  {
   "cell_type": "code",
   "execution_count": 40,
   "metadata": {},
   "outputs": [],
   "source": [
    "## From Sklearn import the confusion matrix and classification report\n",
    "from sklearn.metrics import confusion_matrix, classification_report \n",
    "## Define the confusion matrix for the model\n",
    "cm = confusion_matrix(y_test, y_pred)"
   ]
  },
  {
   "cell_type": "code",
   "execution_count": 18,
   "metadata": {},
   "outputs": [
    {
     "name": "stdout",
     "output_type": "stream",
     "text": [
      "Confusion Matrix : \n",
      " [[1 0]\n",
      " [1 4]]\n"
     ]
    }
   ],
   "source": [
    "## Printing the confusion matrix\n",
    "print (\"Confusion Matrix : \\n\", cm) "
   ]
  },
  {
   "cell_type": "code",
   "execution_count": 20,
   "metadata": {},
   "outputs": [
    {
     "name": "stdout",
     "output_type": "stream",
     "text": [
      "Accuracy :  0.8333333333333334\n"
     ]
    }
   ],
   "source": [
    "## Finding the accuracy of the model\n",
    "print (\"Accuracy : \", accuracy_score(y_test, y_pred))"
   ]
  },
  {
   "cell_type": "code",
   "execution_count": 30,
   "metadata": {},
   "outputs": [
    {
     "data": {
      "text/plain": [
       "array([[9.99997604e-01, 2.39633771e-06],\n",
       "       [0.00000000e+00, 1.00000000e+00],\n",
       "       [2.08849558e-02, 9.79115044e-01],\n",
       "       [1.65918366e-02, 9.83408163e-01],\n",
       "       [9.99999518e-01, 4.81691619e-07],\n",
       "       [1.23002563e-02, 9.87699744e-01],\n",
       "       [1.08869556e-02, 9.89113044e-01],\n",
       "       [9.82751481e-01, 1.72485186e-02],\n",
       "       [6.06980466e-10, 9.99999999e-01],\n",
       "       [9.99750346e-01, 2.49654205e-04],\n",
       "       [9.97011288e-01, 2.98871248e-03],\n",
       "       [9.97060371e-01, 2.93962942e-03],\n",
       "       [9.62254271e-01, 3.77457293e-02],\n",
       "       [5.11893782e-04, 9.99488106e-01],\n",
       "       [9.99999868e-01, 1.31961832e-07],\n",
       "       [9.99999039e-01, 9.60595764e-07]])"
      ]
     },
     "execution_count": 30,
     "metadata": {},
     "output_type": "execute_result"
    }
   ],
   "source": [
    "## Predicitng the probability of the vaiables of the model\n",
    "logistic_regression.predict_proba(X_train)"
   ]
  },
  {
   "cell_type": "code",
   "execution_count": 32,
   "metadata": {},
   "outputs": [
    {
     "data": {
      "text/plain": [
       "1.0"
      ]
     },
     "execution_count": 32,
     "metadata": {},
     "output_type": "execute_result"
    }
   ],
   "source": [
    "## Determining the logistic regression score\n",
    "logistic_regression.score(X_train, y_train)"
   ]
  },
  {
   "cell_type": "code",
   "execution_count": 72,
   "metadata": {
    "scrolled": true
   },
   "outputs": [
    {
     "data": {
      "image/png": "[encoded data removed]",
      "text/plain": [
       "<Figure size 576x576 with 1 Axes>"
      ]
     },
     "metadata": {
      "needs_background": "light"
     },
     "output_type": "display_data"
    },
    {
     "data": {
      "text/plain": [
       "<Figure size 432x288 with 0 Axes>"
      ]
     },
     "metadata": {},
     "output_type": "display_data"
    }
   ],
   "source": [
    "## Draw the confusion matrix for the model\n",
    "cm = confusion_matrix(y_train, logistic_regression.predict(X_train))\n",
    "\n",
    "fig, ax = plot.subplots(figsize=(8, 8))\n",
    "ax.imshow(cm)\n",
    "ax.grid(False)\n",
    "ax.xaxis.set(ticks=(0, 1), ticklabels=('Predicted 0s', 'Predicted 1s'))\n",
    "ax.yaxis.set(ticks=(0, 1), ticklabels=('Actual 0s', 'Actual 1s'))\n",
    "ax.set_ylim(1.5, -0.5)\n",
    "for i in range(2):\n",
    "    for j in range(2):\n",
    "        ax.text(j, i, cm[i, j], ha='center', va='center', color='white')\n",
    "plot.show()\n",
    "plot.savefig(\"ConfusionMatrix.jpg\")"
   ]
  },
  {
   "cell_type": "code",
   "execution_count": 41,
   "metadata": {},
   "outputs": [
    {
     "name": "stdout",
     "output_type": "stream",
     "text": [
      "              precision    recall  f1-score   support\n",
      "\n",
      "           0       1.00      1.00      1.00         9\n",
      "           1       1.00      1.00      1.00         7\n",
      "\n",
      "    accuracy                           1.00        16\n",
      "   macro avg       1.00      1.00      1.00        16\n",
      "weighted avg       1.00      1.00      1.00        16\n",
      "\n"
     ]
    }
   ],
   "source": [
    "## Determining the classfication report for the model\n",
    "print(classification_report(y_train, logistic_regression.predict(X_train)))"
   ]
  },
  {
   "cell_type": "code",
   "execution_count": 62,
   "metadata": {},
   "outputs": [
    {
     "name": "stdout",
     "output_type": "stream",
     "text": [
      "                                 OLS Regression Results                                \n",
      "=======================================================================================\n",
      "Dep. Variable:                      Y   R-squared (uncentered):                   0.611\n",
      "Model:                            OLS   Adj. R-squared (uncentered):              0.525\n",
      "Method:                 Least Squares   F-statistic:                              7.081\n",
      "Date:                Wed, 02 Sep 2020   Prob (F-statistic):                     0.00131\n",
      "Time:                        11:31:06   Log-Likelihood:                         -14.151\n",
      "No. Observations:                  22   AIC:                                      36.30\n",
      "Df Residuals:                      18   BIC:                                      40.67\n",
      "Df Model:                           4                                                  \n",
      "Covariance Type:            nonrobust                                                  \n",
      "======================================================================================\n",
      "                         coef    std err          t      P>|t|      [0.025      0.975]\n",
      "--------------------------------------------------------------------------------------\n",
      "Cash Compensation      0.0021      0.001      3.466      0.003       0.001       0.003\n",
      "Sales                 -0.0029      0.001     -1.965      0.065      -0.006       0.000\n",
      "No.of Employees        0.0002      0.000      1.009      0.326      -0.000       0.001\n",
      "Capital Investment     0.0024      0.004      0.583      0.567      -0.006       0.011\n",
      "==============================================================================\n",
      "Omnibus:                       34.747   Durbin-Watson:                   3.217\n",
      "Prob(Omnibus):                  0.000   Jarque-Bera (JB):                3.170\n",
      "Skew:                           0.067   Prob(JB):                        0.205\n",
      "Kurtosis:                       1.145   Cond. No.                         89.1\n",
      "==============================================================================\n",
      "\n",
      "Warnings:\n",
      "[1] Standard Errors assume that the covariance matrix of the errors is correctly specified.\n"
     ]
    }
   ],
   "source": [
    "## Applying the OLS model to determine model fit and other values\n",
    "model = sm.OLS(y, X)\n",
    "results = model.fit()\n",
    "print(results.summary())"
   ]
  },
  {
   "cell_type": "code",
   "execution_count": null,
   "metadata": {},
   "outputs": [],
   "source": []
  }
 ],
 "metadata": {
  "kernelspec": {
   "display_name": "Python 3",
   "language": "python",
   "name": "python3"
  },
  "language_info": {
   "codemirror_mode": {
    "name": "ipython",
    "version": 3
   },
   "file_extension": ".py",
   "mimetype": "text/x-python",
   "name": "python",
   "nbconvert_exporter": "python",
   "pygments_lexer": "ipython3",
   "version": "3.8.3"
  }
 },
 "nbformat": 4,
 "nbformat_minor": 4
}
